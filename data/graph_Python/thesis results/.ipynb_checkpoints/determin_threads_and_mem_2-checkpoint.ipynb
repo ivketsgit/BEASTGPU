{
 "cells": [
  {
   "cell_type": "code",
   "execution_count": 1,
   "id": "34c552af-f4e0-4770-81d4-a7c314586195",
   "metadata": {},
   "outputs": [],
   "source": [
    "import matplotlib.pyplot as plt\n",
    "import numpy as np\n",
    "plt.rcParams.update({'font.size': 12})  # Change 14 to your desired font size\n",
    "from matplotlib.ticker import ScalarFormatter\n",
    "\n",
    "\n",
    "from data_pStore_threads_data import *"
   ]
  },
  {
   "cell_type": "code",
   "execution_count": 2,
   "id": "5da7e40f-55ea-4574-8cc8-6991d90727d0",
   "metadata": {},
   "outputs": [
    {
     "name": "stdout",
     "output_type": "stream",
     "text": [
      "[ 0.47879791  6.47879791 12.47879791 18.47879791 24.47879791]\n"
     ]
    }
   ],
   "source": [
    "memory_also_used = (5898240000 + 30105600) / (2**30)\n",
    "memory = (np.array([6, 12, 18, 24, 30]) - memory_also_used) * 1.073741824 # in GB\n",
    "print(memory)"
   ]
  },
  {
   "cell_type": "code",
   "execution_count": null,
   "id": "5c5eb86c-1791-4a7e-a47e-0208986c5aca",
   "metadata": {},
   "outputs": [],
   "source": []
  }
 ],
 "metadata": {
  "kernelspec": {
   "display_name": "Python 3 (ipykernel)",
   "language": "python",
   "name": "python3"
  },
  "language_info": {
   "codemirror_mode": {
    "name": "ipython",
    "version": 3
   },
   "file_extension": ".py",
   "mimetype": "text/x-python",
   "name": "python",
   "nbconvert_exporter": "python",
   "pygments_lexer": "ipython3",
   "version": "3.12.4"
  }
 },
 "nbformat": 4,
 "nbformat_minor": 5
}
