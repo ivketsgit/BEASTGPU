{
 "cells": [
  {
   "cell_type": "code",
   "execution_count": 1,
   "id": "14329d9d-5b08-4c2c-b168-d973f8c351a5",
   "metadata": {},
   "outputs": [],
   "source": [
    "import matplotlib.pyplot as plt\n",
    "import numpy as np\n",
    "size_plot = 24 * 1\n",
    "\n",
    "from utils import *"
   ]
  },
  {
   "cell_type": "code",
   "execution_count": 2,
   "id": "21159c2e-ef71-4dc9-9e08-25e1190fe9d0",
   "metadata": {},
   "outputs": [
    {
     "name": "stdout",
     "output_type": "stream",
     "text": [
      "\\begin{table}[H]\n",
      "  \\centering\n",
      "  \\caption{Breakdown of steps of fully storing on GPU}\n",
      "  \\begin{tabular}{l r}\n",
      "    \\toprule\n",
      "    Step & Time (s) \\\\\n",
      "    \\midrule\n",
      "    overhead & 0.121 \\\\\n",
      "    calculate quadrule & 0.720 \\\\\n",
      "    calculate double integral & 3.843 \\\\\n",
      "    store to CPU & 0.000 \\\\\n",
      "    transfer results to CPU & 4.634 \\\\\n",
      "    create complex results & 0.212 \\\\\n",
      "    calculate Sauter-Schwab & [0.901 0.971 1.015] \\\\\n",
      "    Sauter-Schwab overhead & [0.401 0.410 0.352] \\\\\n",
      "    time_table[1,:] & [0.269 0.401 0.410 0.352] \\\\\n",
      "    time_table[2,:] & [3.548 0.901 0.971 1.015] \\\\\n",
      "    calculate SauterSchwab & 4.284 \\\\\n",
      "    total time & 9.222 \\\\\n",
      "    \\bottomrule\n",
      "  \\end{tabular}\n",
      "  \\label{tab:Breakdown of steps of fully storing on GPU}\n",
      "\\end{table}\n"
     ]
    }
   ],
   "source": [
    "read_and_avg_pipeline(\"pipeline\")"
   ]
  },
  {
   "cell_type": "code",
   "execution_count": 3,
   "id": "09e507b3-68f5-4834-a22f-5f8997dc33af",
   "metadata": {},
   "outputs": [
    {
     "name": "stdout",
     "output_type": "stream",
     "text": [
      "\\begin{table}[H]\n",
      "  \\centering\n",
      "  \\caption{Breakdown of steps of fully storing on GPU}\n",
      "  \\begin{tabular}{l r}\n",
      "    \\toprule\n",
      "    Step & Time (s) \\\\\n",
      "    \\midrule\n",
      "    overhead & 0.128 \\\\\n",
      "    calculate quadrule & 0.695 \\\\\n",
      "    calculate double integral & 79.276 \\\\\n",
      "    store to CPU & 0.263 \\\\\n",
      "    transfer results to CPU & N/A \\\\\n",
      "    create complex results & N/A \\\\\n",
      "    calculate Sauter-Schwab & [0.842 0.908 0.955] \\\\\n",
      "    Sauter-Schwab overhead & [0.412 0.411 0.363] \\\\\n",
      "    time_table[1,:] & [0.274 0.412 0.411 0.363] \\\\\n",
      "    time_table[2,:] & [93.533 0.842 0.908 0.955] \\\\\n",
      "    calculate SauterSchwab & 4.307 \\\\\n",
      "    total time & 84.674 \\\\\n",
      "    \\bottomrule\n",
      "  \\end{tabular}\n",
      "  \\label{tab:Breakdown of steps of fully storing on GPU}\n",
      "\\end{table}\n"
     ]
    }
   ],
   "source": [
    "read_and_avg_pipeline(\"pipeline_2\")"
   ]
  },
  {
   "cell_type": "code",
   "execution_count": null,
   "id": "88be7c9f-d4ee-4197-a4d9-3e5b3d5a9af2",
   "metadata": {},
   "outputs": [],
   "source": []
  }
 ],
 "metadata": {
  "kernelspec": {
   "display_name": "Python 3 (ipykernel)",
   "language": "python",
   "name": "python3"
  },
  "language_info": {
   "codemirror_mode": {
    "name": "ipython",
    "version": 3
   },
   "file_extension": ".py",
   "mimetype": "text/x-python",
   "name": "python",
   "nbconvert_exporter": "python",
   "pygments_lexer": "ipython3",
   "version": "3.12.4"
  }
 },
 "nbformat": 4,
 "nbformat_minor": 5
}
